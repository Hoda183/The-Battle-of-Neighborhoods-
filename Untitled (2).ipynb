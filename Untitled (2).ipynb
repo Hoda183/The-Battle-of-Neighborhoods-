{
  "nbformat": 4,
  "nbformat_minor": 0,
  "metadata": {
    "colab": {
      "name": "Untitled",
      "provenance": []
    },
    "kernelspec": {
      "name": "python3",
      "display_name": "Python 3"
    }
  },
  "cells": [
    {
      "cell_type": "markdown",
      "metadata": {
        "id": "NhNP2TjKuPK8",
        "colab_type": "text"
      },
      "source": [
        "New York City, which is often called as New York, is the most popular city in the USA, and also it is the most densely populated city in USA. New York City has been described as the cultural, financial and the media capital of the word, which significantly influence the commerce, entertainment, technology, financial of the world.\n",
        "\n",
        "With the population of almost 20 million people in its metropolitan statistical area, New York City can be described as one of the most competitive city of the world. Due to expensive rental fee and competitivity, thus the analysis and choice of location is essential for new business need to be carefully.\n",
        "\n",
        "In this assignment, we will investigate in New York City, how do we choose best location to open a restaurant and get the most benefit by using the Foursquare by providing the location data and venue information. As investigated, Italian familiies immigrated into the USA in the late 19th and 20th century. So with a huge population of immigration of Italians, they must need to find the restaurant which suitable for them.\n",
        "\n",
        "In this report, I will focus on exploring on the locations & which neighbourhood and boroughs of New York City have the most Italian restaurants that can suitable for the Italian immegrants' flavour. Moreover, I will investigate if I want to open an Italian restaurant, where should I open?\n",
        "This project/report aims to provide information and analysis to the New York City restaurant overview and analysis to business stakeholders who may want to invest and open a restaurant in New York.\n",
        "By looking through this report, business stakeholders will have a virtual overview on which location has the most restaurant and where is the best location for stakeholders to choose to open the restaurant."
      ]
    },
    {
      "cell_type": "markdown",
      "metadata": {
        "id": "Egm7rH5NuPoo",
        "colab_type": "text"
      },
      "source": [
        ""
      ]
    },
    {
      "cell_type": "markdown",
      "metadata": {
        "id": "e0ZIqT6HuPnE",
        "colab_type": "text"
      },
      "source": [
        "In order to obtain the basic background and information for New York City, information get from the website: https://en.wikipedia.org/wiki/New_York_City, where list out the basic history, population, location etc for stakeholders to get a overview of New York City\n",
        "Since New York City has 5 boroughs, so in order to segment the neighborhoods and explore, we need to find the dataset which contains 5 boroughs and neighbourhoods as well within each borough. Latitude and Longtitude of each neighborhood are also needed in the dataset. The available link for this dataset is: https://geo.nyu.edu/catalog/nyu_2451_34572\n",
        "The link which can directly download the dataset as mentioned in point 2: https://cocl.us/new_york_dataset\n",
        "Foursquare API, which has the link of https://developer.foursquare.com/ will be used as well to investigate the dataset of New York City and neighbourhoods and then will use method of clustering to cluster those neighborhoods for Italian restaurants in order to get the detailed information."
      ]
    }
  ]
}